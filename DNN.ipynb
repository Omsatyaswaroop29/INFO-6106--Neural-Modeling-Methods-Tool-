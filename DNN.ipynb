version https://git-lfs.github.com/spec/v1
oid sha256:d656dde9360101754f0fcee7196676bedbb60f687fab73d01729fe52a773d780
size 13827
