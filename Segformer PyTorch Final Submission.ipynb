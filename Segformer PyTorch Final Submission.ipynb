version https://git-lfs.github.com/spec/v1
oid sha256:b35bcc738a0c01d7e9825572c5ed26c68f44a0ec48ce8266d5003db6db9c6ea6
size 800208
