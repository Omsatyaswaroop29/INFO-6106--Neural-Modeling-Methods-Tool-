version https://git-lfs.github.com/spec/v1
oid sha256:054c27e403de7a9b6e9658fc4ec12b6427c56c614dca8477999fb3175654a3f9
size 1674579
